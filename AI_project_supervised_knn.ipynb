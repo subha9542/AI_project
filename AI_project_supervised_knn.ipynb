{
  "nbformat": 4,
  "nbformat_minor": 0,
  "metadata": {
    "colab": {
      "name": "AI_project_supervised_knn.ipynb",
      "provenance": [],
      "collapsed_sections": [],
      "authorship_tag": "ABX9TyMbjvfGHE1hN2z2o8U+4Kl+",
      "include_colab_link": true
    },
    "kernelspec": {
      "name": "python3",
      "display_name": "Python 3"
    }
  },
  "cells": [
    {
      "cell_type": "markdown",
      "metadata": {
        "id": "view-in-github",
        "colab_type": "text"
      },
      "source": [
        "<a href=\"https://colab.research.google.com/github/subha9542/AI_project/blob/master/AI_project_supervised_knn.ipynb\" target=\"_parent\"><img src=\"https://colab.research.google.com/assets/colab-badge.svg\" alt=\"Open In Colab\"/></a>"
      ]
    },
    {
      "cell_type": "code",
      "metadata": {
        "id": "NtiWkXZtfa-6",
        "colab_type": "code",
        "outputId": "d9e08097-059a-469d-ab03-43950d477f8d",
        "colab": {
          "base_uri": "https://localhost:8080/",
          "height": 572
        }
      },
      "source": [
        "!wget --no-check-certificate \\\n",
        "    'https://github.com/subha9542/AI_project/raw/master/ckplus.zip' \\\n",
        "    -O /tmp/ckplus.zip\n",
        "\n",
        "!wget --no-check-certificate \\\n",
        "    'https://github.com/subha9542/AI_project/raw/master/test_ckplus.zip' \\\n",
        "    -O /tmp/test.zip"
      ],
      "execution_count": 0,
      "outputs": [
        {
          "output_type": "stream",
          "text": [
            "--2020-05-08 05:30:44--  https://github.com/subha9542/AI_project/raw/master/ckplus.zip\n",
            "Resolving github.com (github.com)... 140.82.114.3\n",
            "Connecting to github.com (github.com)|140.82.114.3|:443... connected.\n",
            "HTTP request sent, awaiting response... 302 Found\n",
            "Location: https://raw.githubusercontent.com/subha9542/AI_project/master/ckplus.zip [following]\n",
            "--2020-05-08 05:30:45--  https://raw.githubusercontent.com/subha9542/AI_project/master/ckplus.zip\n",
            "Resolving raw.githubusercontent.com (raw.githubusercontent.com)... 151.101.0.133, 151.101.64.133, 151.101.128.133, ...\n",
            "Connecting to raw.githubusercontent.com (raw.githubusercontent.com)|151.101.0.133|:443... connected.\n",
            "HTTP request sent, awaiting response... 200 OK\n",
            "Length: 3808550 (3.6M) [application/zip]\n",
            "Saving to: ‘/tmp/ckplus.zip’\n",
            "\n",
            "/tmp/ckplus.zip     100%[===================>]   3.63M  11.1MB/s    in 0.3s    \n",
            "\n",
            "2020-05-08 05:30:45 (11.1 MB/s) - ‘/tmp/ckplus.zip’ saved [3808550/3808550]\n",
            "\n",
            "--2020-05-08 05:30:48--  https://github.com/subha9542/AI_project/raw/master/test_ckplus.zip\n",
            "Resolving github.com (github.com)... 140.82.114.3\n",
            "Connecting to github.com (github.com)|140.82.114.3|:443... connected.\n",
            "HTTP request sent, awaiting response... 302 Found\n",
            "Location: https://raw.githubusercontent.com/subha9542/AI_project/master/test_ckplus.zip [following]\n",
            "--2020-05-08 05:30:48--  https://raw.githubusercontent.com/subha9542/AI_project/master/test_ckplus.zip\n",
            "Resolving raw.githubusercontent.com (raw.githubusercontent.com)... 151.101.0.133, 151.101.64.133, 151.101.128.133, ...\n",
            "Connecting to raw.githubusercontent.com (raw.githubusercontent.com)|151.101.0.133|:443... connected.\n",
            "HTTP request sent, awaiting response... 200 OK\n",
            "Length: 85172 (83K) [application/zip]\n",
            "Saving to: ‘/tmp/test.zip’\n",
            "\n",
            "/tmp/test.zip       100%[===================>]  83.18K  --.-KB/s    in 0.03s   \n",
            "\n",
            "2020-05-08 05:30:48 (2.64 MB/s) - ‘/tmp/test.zip’ saved [85172/85172]\n",
            "\n"
          ],
          "name": "stdout"
        }
      ]
    },
    {
      "cell_type": "code",
      "metadata": {
        "id": "8Yti0js9fdIa",
        "colab_type": "code",
        "colab": {}
      },
      "source": [
        "import os\n",
        "import zipfile\n",
        "\n",
        "local_zip = '/tmp/ckplus.zip'\n",
        "zip_ref = zipfile.ZipFile(local_zip, 'r')\n",
        "zip_ref.extractall('/tmp/train/')\n",
        "zip_ref.close()\n",
        "local_zip = '/tmp/test.zip'\n",
        "zip_ref = zipfile.ZipFile(local_zip, 'r')\n",
        "zip_ref.extractall('/tmp/test/')\n",
        "zip_ref.close()"
      ],
      "execution_count": 0,
      "outputs": []
    },
    {
      "cell_type": "code",
      "metadata": {
        "id": "FPhfISmiJ7kT",
        "colab_type": "code",
        "outputId": "940e3acd-77f5-483f-a146-7c3a1fd07558",
        "colab": {
          "base_uri": "https://localhost:8080/",
          "height": 69
        }
      },
      "source": [
        "from sklearn.neighbors import KNeighborsClassifier\n",
        "from sklearn.model_selection import train_test_split\n",
        "from sklearn.model_selection import cross_val_score\n",
        "from imutils import paths\n",
        "import numpy as np\n",
        "import argparse\n",
        "import imutils\n",
        "import cv2\n",
        "import os\n",
        "\n",
        "def image_to_feature_vector(image, size=(32, 32)):\n",
        "\t# resize the image to a fixed size, then flatten the image into\n",
        "\t# a list of raw pixel intensities\n",
        "\treturn cv2.resize(image, size).flatten()\n",
        "\n",
        "def extract_color_histogram(image, bins=(8, 8, 8)):\n",
        "\t# extract a 3D color histogram from the HSV color space using\n",
        "\t# the supplied number of `bins` per channel\n",
        "\thsv = cv2.cvtColor(image, cv2.COLOR_BGR2HSV)\n",
        "\thist = cv2.calcHist([hsv], [0, 1, 2], None, bins,\n",
        "\t\t[0, 180, 0, 256, 0, 256])\n",
        "\n",
        "\t# handle normalizing the histogram if we are using OpenCV 2.4.X\n",
        "\tif imutils.is_cv2():\n",
        "\t\thist = cv2.normalize(hist)\n",
        "\n",
        "\t# otherwise, perform \"in place\" normalization in OpenCV 3 (I\n",
        "\t# personally hate the way this is done\n",
        "\telse:\n",
        "\t\tcv2.normalize(hist, hist)\n",
        "\n",
        "\t# return the flattened histogram as the feature vector\n",
        "\treturn hist.flatten()\n",
        "\n",
        "# grab the list of images that we'll be describing\n",
        "print(\"[INFO] describing images...\")\n",
        "train_expressions = ['/tmp/train/CK+48/anger','/tmp/train/CK+48/contempt','/tmp/train/CK+48/disgust','/tmp/train/CK+48/happy','/tmp/train/CK+48/fear','/tmp/train/CK+48/sadness','/tmp/train/CK+48/suprise']\n",
        "train_rawImages = []\n",
        "train_features = []\n",
        "train_labels = []\n",
        "for i in train_expressions:\n",
        "    imagePaths = list(paths.list_images(i))\n",
        "    # initialize the raw pixel intensities matrix, the features matrix,\n",
        "    # and labels list\n",
        "\n",
        "    # loop over the input images\n",
        "    for imagePath in imagePaths:\n",
        "      #print(imagePath)\n",
        "      image = cv2.imread(imagePath)\n",
        "      label = i.split(\"/\")[-1]\n",
        "      # extract raw pixel intensity \"features\", followed by a color\n",
        "      # histogram to characterize the color distribution of the pixels\n",
        "      # in the image\n",
        "      pixels = image_to_feature_vector(image)\n",
        "      hist = extract_color_histogram(image)\n",
        "\n",
        "      # update the raw images, features, and labels matricies,\n",
        "      # respectively\n",
        "      train_rawImages.append(pixels)\n",
        "      train_features.append(hist)\n",
        "      train_labels.append(label)\n",
        "\n",
        "train_rawImages = np.array(train_rawImages)\n",
        "train_features = np.array(train_features)\n",
        "train_labels = np.array(train_labels)\n",
        "print(\"[INFO] pixels matrix: {:.2f}MB\".format(\n",
        "\ttrain_rawImages.nbytes / (1024 * 1000.0)))\n",
        "print(\"[INFO] features matrix: {:.2f}MB\".format(\n",
        "\ttrain_features.nbytes / (1024 * 1000.0)))\n"
      ],
      "execution_count": 0,
      "outputs": [
        {
          "output_type": "stream",
          "text": [
            "[INFO] describing images...\n",
            "[INFO] pixels matrix: 2.20MB\n",
            "[INFO] features matrix: 1.46MB\n"
          ],
          "name": "stdout"
        }
      ]
    },
    {
      "cell_type": "code",
      "metadata": {
        "id": "pqFEGA2gaBNB",
        "colab_type": "code",
        "outputId": "a98f23e9-8c57-42b2-ecca-cc4050cd1f9c",
        "colab": {
          "base_uri": "https://localhost:8080/",
          "height": 52
        }
      },
      "source": [
        "test_expressions = ['/tmp/test/anger','/tmp/test/contempt','/tmp/test/disgust','/tmp/test/happy','/tmp/test/fear','/tmp/test/sadness','/tmp/test/suprise']\n",
        "test_rawImages = []\n",
        "test_features = []\n",
        "test_labels = []\n",
        "for i in test_expressions:\n",
        "    imagePaths = list(paths.list_images(i))\n",
        "    # initialize the raw pixel intensities matrix, the features matrix,\n",
        "    # and labels list\n",
        "\n",
        "    # loop over the input images\n",
        "    for imagePath in imagePaths:\n",
        "      #print(imagePath)\n",
        "      image = cv2.imread(imagePath)\n",
        "      label = i.split(\"/\")[-1]\n",
        "      # extract raw pixel intensity \"features\", followed by a color\n",
        "      # histogram to characterize the color distribution of the pixels\n",
        "      # in the image\n",
        "      pixels = image_to_feature_vector(image)\n",
        "      hist = extract_color_histogram(image)\n",
        "\n",
        "      # update the raw images, features, and labels matricies,\n",
        "      # respectively\n",
        "      test_rawImages.append(pixels)\n",
        "      test_features.append(hist)\n",
        "      test_labels.append(label)\n",
        "\n",
        "test_rawImages = np.array(test_rawImages)\n",
        "test_features = np.array(test_features)\n",
        "test_labels = np.array(test_labels)\n",
        "print(\"[INFO] pixels matrix: {:.2f}MB\".format(\n",
        "\ttest_rawImages.nbytes / (1024 * 1000.0)))\n",
        "print(\"[INFO] features matrix: {:.2f}MB\".format(\n",
        "\ttest_features.nbytes / (1024 * 1000.0)))\n"
      ],
      "execution_count": 0,
      "outputs": [
        {
          "output_type": "stream",
          "text": [
            "[INFO] pixels matrix: 0.12MB\n",
            "[INFO] features matrix: 0.08MB\n"
          ],
          "name": "stdout"
        }
      ]
    },
    {
      "cell_type": "code",
      "metadata": {
        "id": "2JTN8-g5mRXm",
        "colab_type": "code",
        "outputId": "72886f15-6a37-4b9d-a4ce-556ed752680a",
        "colab": {
          "base_uri": "https://localhost:8080/",
          "height": 52
        }
      },
      "source": [
        "\n",
        "# partition the data into training and testing splits, using 75%\n",
        "# of the data for training and the remaining 25% for testing\n",
        "#(trainRI, testRI, trainRL, testRL) = train_test_split(\n",
        "#\trawImages, labels, test_size=0.25, random_state=42)\n",
        "(trainRI, testRI, trainRL, testRL) = train_test_split(\n",
        "\ttrain_rawImages, train_labels, test_size=0.25, random_state=42)\n",
        "\n",
        "# train and evaluate a k-NN classifer on the raw pixel intensities\n",
        "print(\"[INFO] evaluating raw pixel accuracy...\")\n",
        "model = KNeighborsClassifier(n_neighbors=1, n_jobs=-1)\n",
        "model.fit(trainRI, trainRL)\n",
        "acc = model.score(testRI, testRL)\n",
        "print(\"[INFO] raw pixel accuracy: {:.2f}%\".format(acc * 100))\n"
      ],
      "execution_count": 0,
      "outputs": [
        {
          "output_type": "stream",
          "text": [
            "[INFO] evaluating raw pixel accuracy...\n",
            "[INFO] raw pixel accuracy: 93.99%\n"
          ],
          "name": "stdout"
        }
      ]
    },
    {
      "cell_type": "code",
      "metadata": {
        "id": "c6A-ol6KRtk6",
        "colab_type": "code",
        "outputId": "269d9cbe-018a-4d1a-b8d8-2bb22c997c39",
        "colab": {
          "base_uri": "https://localhost:8080/",
          "height": 35
        }
      },
      "source": [
        "\n",
        "k_range = range(1, 10)\n",
        "\n",
        "# We can create Python dictionary using [] or dict()\n",
        "scores = []\n",
        "\n",
        "#testing knn for k in the range 1 to 10\n",
        "for k in k_range:\n",
        "    knn = KNeighborsClassifier(n_neighbors=k)\n",
        "    #knn.fit(trainRI, trainRL)\n",
        "    #score = knn.score(testRI, testRL)\n",
        "    knn.fit(train_rawImages, train_labels)\n",
        "    score = knn.score(test_rawImages, test_labels)\n",
        "    #score = cross_val_score(knn, testRI, testRL, cv=10, scoring='accuracy')\n",
        "    scores.append(score.mean())\n",
        "\n",
        "print(scores)"
      ],
      "execution_count": 0,
      "outputs": [
        {
          "output_type": "stream",
          "text": [
            "[1.0, 1.0, 1.0, 0.9743589743589743, 0.9743589743589743, 0.6153846153846154, 0.717948717948718, 0.6153846153846154, 0.6153846153846154]\n"
          ],
          "name": "stdout"
        }
      ]
    },
    {
      "cell_type": "code",
      "metadata": {
        "id": "8o8QE756S-pA",
        "colab_type": "code",
        "outputId": "2e106509-e565-4d8c-f899-f40a2ec54a32",
        "colab": {
          "base_uri": "https://localhost:8080/",
          "height": 297
        }
      },
      "source": [
        "# import Matplotlib (scientific plotting library)\n",
        "import matplotlib.pyplot as plt\n",
        "\n",
        "# allow plots to appear within the notebook\n",
        "%matplotlib inline\n",
        "\n",
        "# plot the relationship between K and testing accuracy\n",
        "# plt.plot(x_axis, y_axis)\n",
        "plt.plot(k_range, scores)\n",
        "plt.xlabel('Value of K for KNN')\n",
        "plt.ylabel('Testing Accuracy')"
      ],
      "execution_count": 0,
      "outputs": [
        {
          "output_type": "execute_result",
          "data": {
            "text/plain": [
              "Text(0, 0.5, 'Testing Accuracy')"
            ]
          },
          "metadata": {
            "tags": []
          },
          "execution_count": 16
        },
        {
          "output_type": "display_data",
          "data": {
            "image/png": "[encoded data removed]",
            "text/plain": [
              "<Figure size 432x288 with 1 Axes>"
            ]
          },
          "metadata": {
            "tags": [],
            "needs_background": "light"
          }
        }
      ]
    }
  ]
}